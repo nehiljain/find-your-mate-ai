{
 "cells": [
  {
   "cell_type": "code",
   "execution_count": null,
   "metadata": {},
   "outputs": [],
   "source": [
    "import sys\n",
    "if '/Users/nehiljain/code/find-your-mate-ai/src' not in sys.path:\n",
    "    sys.path.append('/Users/nehiljain/code/find-your-mate-ai/src')\n",
    "\n",
    "\n",
    "import nest_asyncio\n",
    "nest_asyncio.apply()\n",
    "from find_your_mate_ai.config import settings\n",
    "from find_your_mate_ai.data_ingestion import *\n",
    "import pandas as pd\n",
    "openai.api_key = settings.OPENAI_API_KEY\n",
    "logging.info(\"OpenAI API key configured\")\n",
    "\n",
    "\n",
    "# nodes = load_nodes_from_mongodb(settings.MONGO_URI)\n"
   ]
  },
  {
   "cell_type": "code",
   "execution_count": null,
   "metadata": {},
   "outputs": [],
   "source": [
    "# setup Phoenix\n",
    "import phoenix as px\n",
    "import llama_index.core\n",
    "\n",
    "px.launch_app()\n",
    "llama_index.core.set_global_handler(\"arize_phoenix\")"
   ]
  },
  {
   "cell_type": "code",
   "execution_count": null,
   "metadata": {},
   "outputs": [],
   "source": [
    "import os\n",
    "from find_your_mate_ai.config import settings\n",
    "from pinecone import Pinecone\n",
    "from pinecone import ServerlessSpec\n",
    "from llama_index.core import VectorStoreIndex, StorageContext\n",
    "from llama_index.vector_stores.pinecone import PineconeVectorStore\n",
    "\n",
    "api_key = settings.PINECONE_API_KEY\n",
    "pc = Pinecone(api_key=api_key)\n",
    "\n",
    "# delete if needed\n",
    "# pc.delete_index(\"test-index\")\n",
    "\n",
    "# Dimensions are for text-embedding-ada-002\n",
    "try:\n",
    "    pc.create_index(\n",
    "        \"test-index\",\n",
    "        dimension=1536,\n",
    "        metric=\"cosine\",\n",
    "        spec=ServerlessSpec(cloud=\"aws\", region=\"us-west-2\"),\n",
    "    )\n",
    "except Exception as e:\n",
    "    # Most likely index already exists\n",
    "    print(e)\n",
    "    pass\n",
    "\n",
    "pinecone_index = pc.Index(\"test-index\")\n",
    "vector_store = PineconeVectorStore(\n",
    "    pinecone_index=pinecone_index,\n",
    "    namespace=\"test\",\n",
    ")\n",
    "storage_context = StorageContext.from_defaults(vector_store=vector_store)\n"
   ]
  },
  {
   "cell_type": "code",
   "execution_count": null,
   "metadata": {},
   "outputs": [],
   "source": [
    "from pathlib import Path\n",
    "nodes = ingest_profiles_data(\n",
    "  source_data_path=Path(\"/Users/nehiljain/code/find-your-mate-ai/tests/data\"),\n",
    "  output_data_path=Path(\"/Users/nehiljain/code/find-your-mate-ai/tests/data\")\n",
    ")\n",
    "# import pickle\n",
    "# import openai\n",
    "# openai.api_key = settings.OPENAI_API_KEY\n",
    "# logging.info(\"OpenAI API key configured\")\n",
    "# nodes = pickle.load(open(\"/Users/nehiljain/code/find-your-mate-ai/src/experiments/test-nodes.pkl\", \"rb\"))\n",
    "\n"
   ]
  },
  {
   "cell_type": "code",
   "execution_count": null,
   "metadata": {},
   "outputs": [],
   "source": [
    "nodes[0].metadata"
   ]
  },
  {
   "cell_type": "code",
   "execution_count": null,
   "metadata": {},
   "outputs": [],
   "source": [
    "from llama_index.core.retrievers import VectorIndexAutoRetriever\n",
    "from llama_index.core.vector_stores import MetadataInfo, VectorStoreInfo\n",
    "from llama_index.core.retrievers import VectorIndexAutoRetriever\n",
    "from llama_index.core.vector_stores import MetadataInfo, VectorStoreInfo\n",
    "\n",
    "index = VectorStoreIndex(nodes, storage_context=storage_context)\n",
    "vector_store_info = VectorStoreInfo(\n",
    "    content_info=\"founders profiles from startup school YC platform\",\n",
    "    metadata_info=[\n",
    "        MetadataInfo(\n",
    "            name=\"name\",\n",
    "            type=\"str\",\n",
    "            description=\"Name of the founder profile\",\n",
    "        ),\n",
    "        MetadataInfo(\n",
    "            name=\"profile_url\",\n",
    "            type=\"str\",\n",
    "            description=\"Startup school URL to the founder's profile\",\n",
    "        ),\n",
    "        MetadataInfo(\n",
    "            name=\"linkedin_url\",\n",
    "            type=\"str\",\n",
    "            description=\"URL to the founder's LinkedIn profile\",\n",
    "        ),\n",
    "        MetadataInfo(\n",
    "            name=\"hobbies\",\n",
    "            type=\"list[str]\",\n",
    "            description=\"List of hobbies/interests of the founder. This is not directly related to startup but the individual founder personalities\",\n",
    "        ),\n",
    "        MetadataInfo(\n",
    "            name=\"employement_industries\",\n",
    "            type=\"list[str]\",\n",
    "            description=\"List of industries the founder has worked in.\"\n",
    "        ),\n",
    "        MetadataInfo(\n",
    "            name=\"location\",\n",
    "            type=\"str\",\n",
    "            description=\"Location of the founder. Format is 'city, state, country'\",\n",
    "        ),\n",
    "        MetadataInfo(\n",
    "            name=\"age\",\n",
    "            type=\"int\",\n",
    "            description=\"Age of the founder\",\n",
    "        ),\n",
    "    ],\n",
    ")\n",
    "\n",
    "gpt4 = OpenAI(\"gpt-4\")\n",
    "retriever = VectorIndexAutoRetriever(\n",
    "    index,\n",
    "    vector_store_info=vector_store_info,\n",
    "    llm=gpt4,\n",
    "    empty_query_top_k=10,\n",
    "    top_k=5,\n",
    "    # this is a hack to allow for blank queries in pinecone\n",
    "    default_empty_query_vector=[0] * 1536,\n",
    "    verbose=True,\n",
    ")"
   ]
  },
  {
   "cell_type": "code",
   "execution_count": null,
   "metadata": {},
   "outputs": [],
   "source": [
    "\n",
    "filtered_nodes = retriever.retrieve(\n",
    "    \"Who are some founders that are 30 or below\"\n",
    ")"
   ]
  },
  {
   "cell_type": "code",
   "execution_count": null,
   "metadata": {},
   "outputs": [],
   "source": [
    "from llama_index.core.response.notebook_utils import display_source_node\n",
    "\n",
    "filtered_nodes = retriever.retrieve(\n",
    "    \"Who are some founders that are 30 or below\"\n",
    ")\n",
    "for node in filtered_nodes:\n",
    "    print(node.metadata['file_name'])\n",
    "    display_source_node(node, source_length=1000)\n",
    "    print(\"-\"*100)\n",
    "    print(\"-\"*100)\n"
   ]
  },
  {
   "cell_type": "code",
   "execution_count": null,
   "metadata": {},
   "outputs": [],
   "source": [
    "from llama_index.core.response.notebook_utils import display_source_node\n",
    "\n",
    "filtered_nodes = retriever.retrieve(\n",
    "    \"Who are some founders that are in Seattle, WA, USA\"\n",
    ")\n",
    "for node in filtered_nodes:\n",
    "    print(node.metadata['file_name'])\n",
    "    display_source_node(node, source_length=1000)\n",
    "    print(\"-\"*100)\n",
    "    print(\"-\"*100)\n"
   ]
  },
  {
   "cell_type": "code",
   "execution_count": null,
   "metadata": {},
   "outputs": [],
   "source": [
    "from llama_index.core.response.notebook_utils import display_source_node\n",
    "\n",
    "filtered_nodes = retriever.retrieve(\n",
    "    \"Who are some founders that went to IIT\"\n",
    ")\n",
    "for node in filtered_nodes:\n",
    "    print(node.metadata['file_name'])\n",
    "    display_source_node(node, source_length=1000)\n",
    "    print(\"-\"*100)\n",
    "    print(\"-\"*100)\n"
   ]
  },
  {
   "cell_type": "markdown",
   "metadata": {},
   "source": []
  }
 ],
 "metadata": {
  "kernelspec": {
   "display_name": ".venv",
   "language": "python",
   "name": "python3"
  },
  "language_info": {
   "codemirror_mode": {
    "name": "ipython",
    "version": 3
   },
   "file_extension": ".py",
   "mimetype": "text/x-python",
   "name": "python",
   "nbconvert_exporter": "python",
   "pygments_lexer": "ipython3",
   "version": "3.11.8"
  }
 },
 "nbformat": 4,
 "nbformat_minor": 2
}
