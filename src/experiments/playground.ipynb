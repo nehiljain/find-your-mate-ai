{
 "cells": [
  {
   "cell_type": "code",
   "execution_count": 1,
   "metadata": {},
   "outputs": [
    {
     "name": "stdout",
     "output_type": "stream",
     "text": [
      "INFO:root:Starting data ingestion from /Users/nehiljain/code/find-your-mate-ai/data\n",
      "Starting data ingestion from /Users/nehiljain/code/find-your-mate-ai/data\n",
      "INFO:root:OpenAI API key configured\n",
      "OpenAI API key configured\n"
     ]
    },
    {
     "data": {
      "text/plain": [
       "(15, 17)"
      ]
     },
     "execution_count": 1,
     "metadata": {},
     "output_type": "execute_result"
    }
   ],
   "source": [
    "import sys\n",
    "if '/Users/nehiljain/code/find-your-mate-ai/src' not in sys.path:\n",
    "    sys.path.append('/Users/nehiljain/code/find-your-mate-ai/src')\n",
    "\n",
    "import nest_asyncio\n",
    "\n",
    "nest_asyncio.apply()\n",
    "from find_your_mate_ai.config import settings\n",
    "from find_your_mate_ai.data_ingestion import *\n",
    "import pandas as pd\n",
    "documents = ingest_profiles_data(\n",
    "        source_data_path=settings.SOURCE_DATA_PATH,\n",
    "        output_data_path=settings.OUTPUT_DATA_PATH,\n",
    "    )\n",
    "documents_df = pd.DataFrame([doc.to_dict() for doc in documents])\n",
    "metadata_df = documents_df['metadata'].apply(pd.Series)\n",
    "documents_df = pd.concat([documents_df.drop(columns=['metadata']), metadata_df], axis=1)\n",
    "documents_df.shape"
   ]
  },
  {
   "cell_type": "code",
   "execution_count": 2,
   "metadata": {},
   "outputs": [
    {
     "name": "stdout",
     "output_type": "stream",
     "text": [
      "INFO:pymongo.serverSelection:{\"message\": \"Waiting for suitable server to become available\", \"selector\": \"Primary()\", \"operation\": \"find\", \"topologyDescription\": \"<TopologyDescription id: 663daa977b2325b5f1fd01b9, topology_type: ReplicaSetNoPrimary, servers: [<ServerDescription ('ac-qzlbp2a-shard-00-00.dyravrx.mongodb.net', 27017) server_type: Unknown, rtt: None>, <ServerDescription ('ac-qzlbp2a-shard-00-01.dyravrx.mongodb.net', 27017) server_type: Unknown, rtt: None>, <ServerDescription ('ac-qzlbp2a-shard-00-02.dyravrx.mongodb.net', 27017) server_type: Unknown, rtt: None>]>\", \"clientId\": {\"$oid\": \"663daa977b2325b5f1fd01b9\"}, \"remainingTimeMS\": 29}\n",
      "{\"message\": \"Waiting for suitable server to become available\", \"selector\": \"Primary()\", \"operation\": \"find\", \"topologyDescription\": \"<TopologyDescription id: 663daa977b2325b5f1fd01b9, topology_type: ReplicaSetNoPrimary, servers: [<ServerDescription ('ac-qzlbp2a-shard-00-00.dyravrx.mongodb.net', 27017) server_type: Unknown, rtt: None>, <ServerDescription ('ac-qzlbp2a-shard-00-01.dyravrx.mongodb.net', 27017) server_type: Unknown, rtt: None>, <ServerDescription ('ac-qzlbp2a-shard-00-02.dyravrx.mongodb.net', 27017) server_type: Unknown, rtt: None>]>\", \"clientId\": {\"$oid\": \"663daa977b2325b5f1fd01b9\"}, \"remainingTimeMS\": 29}\n"
     ]
    }
   ],
   "source": [
    "import pandas as pd\n",
    "import pymongoarrow as pma\n",
    "from pymongoarrow.monkey import patch_all\n",
    "patch_all()\n",
    "\n",
    "from pymongo.server_api import ServerApi\n",
    "\n",
    "from datetime import datetime\n",
    "from pymongo import MongoClient\n",
    "# Create a new client and connect to the server\n",
    "client = MongoClient(settings.MONGO_URI, server_api=ServerApi('1'))\n",
    "\n",
    "database = client[\"db_docstore\"]\n",
    "collection = database[\"docstore/data\"]\n",
    "df = collection.find_pandas_all({})\n",
    "# Extract metadata from the '__data__' column and expand it into separate columns in the DataFrame\n",
    "metadata_df = df['__data__'].apply(lambda x: x['metadata']).apply(pd.Series)\n",
    "df = df.join(metadata_df)\n",
    "df = df[['_id', 'file_path', 'file_name', 'file_size', 'creation_date', 'last_modified_date']]\n",
    "\n"
   ]
  },
  {
   "cell_type": "code",
   "execution_count": 3,
   "metadata": {},
   "outputs": [],
   "source": [
    "df.drop_duplicates(subset=df.columns.difference(['_id']), keep='first', inplace=True)\n",
    "\n",
    "\n"
   ]
  },
  {
   "cell_type": "code",
   "execution_count": 4,
   "metadata": {},
   "outputs": [
    {
     "name": "stdout",
     "output_type": "stream",
     "text": [
      "INFO:pymongo.serverSelection:{\"message\": \"Waiting for suitable server to become available\", \"selector\": \"Primary()\", \"operation\": \"find\", \"topologyDescription\": \"<TopologyDescription id: 663daa9a7b2325b5f1fd01ba, topology_type: ReplicaSetNoPrimary, servers: [<ServerDescription ('ac-qzlbp2a-shard-00-00.dyravrx.mongodb.net', 27017) server_type: Unknown, rtt: None>, <ServerDescription ('ac-qzlbp2a-shard-00-01.dyravrx.mongodb.net', 27017) server_type: Unknown, rtt: None>, <ServerDescription ('ac-qzlbp2a-shard-00-02.dyravrx.mongodb.net', 27017) server_type: Unknown, rtt: None>]>\", \"clientId\": {\"$oid\": \"663daa9a7b2325b5f1fd01ba\"}, \"remainingTimeMS\": 29}\n",
      "{\"message\": \"Waiting for suitable server to become available\", \"selector\": \"Primary()\", \"operation\": \"find\", \"topologyDescription\": \"<TopologyDescription id: 663daa9a7b2325b5f1fd01ba, topology_type: ReplicaSetNoPrimary, servers: [<ServerDescription ('ac-qzlbp2a-shard-00-00.dyravrx.mongodb.net', 27017) server_type: Unknown, rtt: None>, <ServerDescription ('ac-qzlbp2a-shard-00-01.dyravrx.mongodb.net', 27017) server_type: Unknown, rtt: None>, <ServerDescription ('ac-qzlbp2a-shard-00-02.dyravrx.mongodb.net', 27017) server_type: Unknown, rtt: None>]>\", \"clientId\": {\"$oid\": \"663daa9a7b2325b5f1fd01ba\"}, \"remainingTimeMS\": 29}\n",
      "INFO:root:Fetched 99 documents from MongoDB\n",
      "Fetched 99 documents from MongoDB\n",
      "INFO:root:Columns in the DataFrame: Index(['_id', 'file_path', 'file_name', 'file_size', 'creation_date',\n",
      "       'last_modified_date'],\n",
      "      dtype='object')\n",
      "Columns in the DataFrame: Index(['_id', 'file_path', 'file_name', 'file_size', 'creation_date',\n",
      "       'last_modified_date'],\n",
      "      dtype='object')\n",
      "INFO:root:Dropped 84 duplicate rows from the DataFrame\n",
      "Dropped 84 duplicate rows from the DataFrame\n",
      "(15, 6)\n",
      "(2, 6)\n"
     ]
    }
   ],
   "source": [
    "db_name='db_docstore'\n",
    "collection_name='docstore/data'\n",
    "MONGO_URI=settings.MONGO_URI\n",
    "# Fetch all existing documents from MongoDB to avoid reprocessing\n",
    "existing_documents_df = fetch_all_documents_from_mongodb(MONGO_URI, db_name, collection_name)\n",
    "print(existing_documents_df.shape)\n",
    "existing_documents_df = existing_documents_df.head(2)\n",
    "print(existing_documents_df.shape)\n",
    "# Extract relevant columns for comparison\n",
    "comparison_columns = ['file_path', 'file_name', 'file_size', 'creation_date', 'last_modified_date']\n",
    "existing_documents_df = existing_documents_df[comparison_columns]\n",
    "\n",
    "# Filter out documents that already exist in MongoDB\n",
    "documents_df = documents_df.merge(existing_documents_df, on=comparison_columns, how='left', indicator=True)\n",
    "documents_df = documents_df[documents_df['_merge'] == 'left_only'].drop(columns=['_merge'])"
   ]
  },
  {
   "cell_type": "code",
   "execution_count": 6,
   "metadata": {},
   "outputs": [
    {
     "data": {
      "text/plain": [
       "array(['alazar-shenkute.mdx', 'albert-an.mdx', 'alex-ballasiotes.mdx',\n",
       "       'alexandr-larionov.mdx', 'alireza-beig.mdx', 'alisa-amentes.mdx',\n",
       "       'amit-tewari.mdx', 'andrei-ionescu.mdx', 'andrew-dopp.mdx',\n",
       "       'andrew-ishak.mdx', 'andrew-sorohan.mdx', 'ankit-patel.mdx',\n",
       "       'apoorv-sharma.mdx'], dtype=object)"
      ]
     },
     "execution_count": 6,
     "metadata": {},
     "output_type": "execute_result"
    }
   ],
   "source": [
    "\n",
    "documents_df.file_name.values\n",
    "\n"
   ]
  },
  {
   "cell_type": "code",
   "execution_count": null,
   "metadata": {},
   "outputs": [],
   "source": []
  }
 ],
 "metadata": {
  "kernelspec": {
   "display_name": ".venv",
   "language": "python",
   "name": "python3"
  },
  "language_info": {
   "codemirror_mode": {
    "name": "ipython",
    "version": 3
   },
   "file_extension": ".py",
   "mimetype": "text/x-python",
   "name": "python",
   "nbconvert_exporter": "python",
   "pygments_lexer": "ipython3",
   "version": "3.11.7"
  }
 },
 "nbformat": 4,
 "nbformat_minor": 2
}
