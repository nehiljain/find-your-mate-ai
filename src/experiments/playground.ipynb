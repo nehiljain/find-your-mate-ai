{
 "cells": [
  {
   "cell_type": "code",
   "execution_count": null,
   "metadata": {},
   "outputs": [],
   "source": [
    "import sys\n",
    "if '/Users/nehiljain/code/find-your-mate-ai/src' not in sys.path:\n",
    "    sys.path.append('/Users/nehiljain/code/find-your-mate-ai/src')\n",
    "\n",
    "\n",
    "import nest_asyncio\n",
    "nest_asyncio.apply()\n",
    "from find_your_mate_ai.config import settings\n",
    "from find_your_mate_ai.data_ingestion import *\n",
    "import pandas as pd\n",
    "openai.api_key = settings.OPENAI_API_KEY\n",
    "logging.info(\"OpenAI API key configured\")\n",
    "\n",
    "\n",
    "nodes = load_nodes_from_mongodb(settings.MONGO_URI)\n"
   ]
  },
  {
   "cell_type": "code",
   "execution_count": null,
   "metadata": {},
   "outputs": [],
   "source": [
    "from llama_index.core import VectorStoreIndex, get_response_synthesizer\n",
    "from llama_index.core.retrievers import VectorIndexRetriever\n",
    "from llama_index.core.query_engine import RetrieverQueryEngine\n",
    "from llama_index.core.postprocessor import SimilarityPostprocessor\n",
    "from textwrap import dedent\n",
    "# build index\n",
    "index = VectorStoreIndex(nodes)\n",
    "\n",
    "\n",
    "query_engine = index.as_query_engine()\n",
    "response = query_engine.query(\n",
    "    dedent(\"\"\"Create a markdown style list of all the profiles that match the following query best:\n",
    "           Find me all the founders in SF Bay Area location\n",
    "           \"\"\")\n",
    ")\n",
    "print(response)\n",
    "\n"
   ]
  },
  {
   "cell_type": "code",
   "execution_count": null,
   "metadata": {},
   "outputs": [],
   "source": [
    "from llama_index.core.response.notebook_utils import display_source_node\n",
    "for node in response.source_nodes:\n",
    "    print(node.metadata['file_name'])\n",
    "    display_source_node(node, source_length=1000)\n",
    "    print(\"-\"*100)\n",
    "    print(\"-\"*100)\n"
   ]
  },
  {
   "cell_type": "code",
   "execution_count": null,
   "metadata": {},
   "outputs": [],
   "source": [
    "\n",
    "from llama_index.core.retrievers import KeywordTableGPTRetriever\n",
    "\n",
    "from textwrap import dedent\n",
    "# build index\n",
    "index = VectorStoreIndex(nodes)\n",
    "\n",
    "\n",
    "query_engine = index.as_retriever()\n",
    "response = query_engine.query(\n",
    "    dedent(\"\"\"Create a markdown style list of all the profiles that match the following query best:\n",
    "           Find me all the founders in SF Bay Area location\n",
    "           \"\"\")\n",
    ")\n",
    "print(response)\n",
    "\n"
   ]
  },
  {
   "cell_type": "code",
   "execution_count": null,
   "metadata": {},
   "outputs": [],
   "source": [
    "from pymongo import MongoClient\n",
    "from pymongo.server_api import ServerApi\n",
    "\n",
    "# Connect to MongoDB\n",
    "client = MongoClient(settings.MONGO_URI, server_api=ServerApi('1'))\n",
    "db = client['db_docstore']\n",
    "collection = db['docstore/data']\n",
    "\n",
    "def update_document_ids_with_hashes(metadata_df):\n",
    "    metadata_df = fetch_all_documents_from_mongodb(settings.MONGO_URI, \"db_docstore\", \"docstore/data\")\n",
    "    # Create a clone of the metadata DataFrame\n",
    "    cloned_df = metadata_df.copy()\n",
    "\n",
    "    # Modify the _id column to be a hash of the file_name column\n",
    "    cloned_df['_id'] = cloned_df['file_name'].apply(lambda x: hash(x))\n",
    "\n",
    "    # Iterate over each row in the DataFrame and update the MongoDB document\n",
    "    for index, row in cloned_df.iterrows():\n",
    "        original_id = metadata_df.at[index, '_id']\n",
    "        new_id = row['_id']\n",
    "\n",
    "        # Update the document in MongoDB\n",
    "        update_result = collection.update_one(\n",
    "            {'_id': original_id},\n",
    "            {'$set': {'_id': new_id}}\n",
    "        )\n",
    "\n",
    "        # Log the result of the update\n",
    "        if update_result.modified_count == 1:\n",
    "            logging.info(f\"Document with original ID {original_id} updated to new ID {new_id}\")\n",
    "        else:\n",
    "            logging.error(f\"Failed to update document with original ID {original_id}\")\n",
    "\n",
    "# Call the function with the metadata DataFrame\n",
    "update_document_ids_with_hashes(metadata_df)\n",
    "\n",
    "\n",
    "# Close the connection\n",
    "client.close()\n"
   ]
  },
  {
   "cell_type": "code",
   "execution_count": null,
   "metadata": {},
   "outputs": [],
   "source": []
  },
  {
   "cell_type": "code",
   "execution_count": null,
   "metadata": {},
   "outputs": [],
   "source": []
  },
  {
   "cell_type": "code",
   "execution_count": null,
   "metadata": {},
   "outputs": [],
   "source": [
    "%pip install llama-index-llms-openai\n",
    "%pip install llama-index-program-openai\n",
    "%pip install llama-index-readers-web\n"
   ]
  },
  {
   "cell_type": "code",
   "execution_count": null,
   "metadata": {},
   "outputs": [],
   "source": []
  },
  {
   "cell_type": "code",
   "execution_count": null,
   "metadata": {},
   "outputs": [],
   "source": [
    "# load in blog\n",
    "\n",
    "from llama_index.readers.web import SimpleWebPageReader\n",
    "from llama_index.core.node_parser import SentenceSplitter\n",
    "\n",
    "reader = SimpleWebPageReader(html_to_text=True)\n",
    "docs = reader.load_data(urls=[\"https://eugeneyan.com/writing/llm-patterns/\"])"
   ]
  },
  {
   "cell_type": "code",
   "execution_count": null,
   "metadata": {},
   "outputs": [],
   "source": [
    "from llama_index.core.ingestion import IngestionPipeline\n",
    "\n",
    "node_parser = SentenceSplitter(chunk_size=1024)\n",
    "\n",
    "pipeline = IngestionPipeline(transformations=[node_parser, program_extractor])\n",
    "\n",
    "orig_nodes = pipeline.run(documents=docs)"
   ]
  },
  {
   "cell_type": "code",
   "execution_count": null,
   "metadata": {},
   "outputs": [],
   "source": [
    "orig_nodes"
   ]
  },
  {
   "cell_type": "code",
   "execution_count": null,
   "metadata": {},
   "outputs": [],
   "source": [
    "# setup Phoenix\n",
    "import phoenix as px\n",
    "import llama_index.core\n",
    "\n",
    "px.launch_app()\n",
    "llama_index.core.set_global_handler(\"arize_phoenix\")"
   ]
  },
  {
   "cell_type": "code",
   "execution_count": null,
   "metadata": {},
   "outputs": [],
   "source": [
    "import os\n",
    "from find_your_mate_ai.config import settings\n",
    "from pinecone import Pinecone\n",
    "from pinecone import ServerlessSpec\n",
    "from llama_index.core import VectorStoreIndex, StorageContext\n",
    "from llama_index.vector_stores.pinecone import PineconeVectorStore\n",
    "\n",
    "api_key = settings.PINECONE_API_KEY\n",
    "pc = Pinecone(api_key=api_key)\n",
    "\n",
    "# delete if needed\n",
    "# pc.delete_index(\"test-index\")\n",
    "\n",
    "# Dimensions are for text-embedding-ada-002\n",
    "try:\n",
    "    pc.create_index(\n",
    "        \"test-index\",\n",
    "        dimension=1536,\n",
    "        metric=\"cosine\",\n",
    "        spec=ServerlessSpec(cloud=\"aws\", region=\"us-west-2\"),\n",
    "    )\n",
    "except Exception as e:\n",
    "    # Most likely index already exists\n",
    "    print(e)\n",
    "    pass\n",
    "\n",
    "pinecone_index = pc.Index(\"test-index\")\n",
    "vector_store = PineconeVectorStore(\n",
    "    pinecone_index=pinecone_index,\n",
    "    namespace=\"test\",\n",
    ")\n",
    "storage_context = StorageContext.from_defaults(vector_store=vector_store)\n",
    "index = VectorStoreIndex(nodes, storage_context=storage_context)"
   ]
  },
  {
   "cell_type": "code",
   "execution_count": null,
   "metadata": {},
   "outputs": [],
   "source": [
    "from pathlib import Path\n",
    "nodes = ingest_profiles_data(\n",
    "  source_data_path=Path(\"/Users/nehiljain/code/find-your-mate-ai/tests/data\"),\n",
    "  output_data_path=Path(\"/Users/nehiljain/code/find-your-mate-ai/tests/data\")\n",
    ")\n",
    "\n"
   ]
  },
  {
   "cell_type": "code",
   "execution_count": null,
   "metadata": {},
   "outputs": [],
   "source": [
    "from llama_index.core.retrievers import VectorIndexAutoRetriever\n",
    "from llama_index.core.vector_stores import MetadataInfo, VectorStoreInfo\n",
    "from llama_index.core.retrievers import VectorIndexAutoRetriever\n",
    "from llama_index.core.vector_stores import MetadataInfo, VectorStoreInfo\n",
    "\n",
    "\n",
    "vector_store_info = VectorStoreInfo(\n",
    "    content_info=\"famous books and movies\",\n",
    "    metadata_info=[\n",
    "        MetadataInfo(\n",
    "            name=\"director\",\n",
    "            type=\"str\",\n",
    "            description=(\"Name of the director\"),\n",
    "        ),\n",
    "        MetadataInfo(\n",
    "            name=\"theme\",\n",
    "            type=\"str\",\n",
    "            description=(\"Theme of the book/movie\"),\n",
    "        ),\n",
    "        MetadataInfo(\n",
    "            name=\"year\",\n",
    "            type=\"int\",\n",
    "            description=(\"Year of the book/movie\"),\n",
    "        ),\n",
    "    ],\n",
    ")\n",
    "retriever = VectorIndexAutoRetriever(\n",
    "    index,\n",
    "    vector_store_info=vector_store_info,\n",
    "    empty_query_top_k=10,\n",
    "    # this is a hack to allow for blank queries in pinecone\n",
    "    default_empty_query_vector=[0] * 1536,\n",
    "    verbose=True,\n",
    ")"
   ]
  },
  {
   "cell_type": "code",
   "execution_count": null,
   "metadata": {},
   "outputs": [],
   "source": []
  },
  {
   "cell_type": "markdown",
   "metadata": {},
   "source": []
  }
 ],
 "metadata": {
  "kernelspec": {
   "display_name": ".venv",
   "language": "python",
   "name": "python3"
  },
  "language_info": {
   "codemirror_mode": {
    "name": "ipython",
    "version": 3
   },
   "file_extension": ".py",
   "mimetype": "text/x-python",
   "name": "python",
   "nbconvert_exporter": "python",
   "pygments_lexer": "ipython3",
   "version": "3.11.7"
  }
 },
 "nbformat": 4,
 "nbformat_minor": 2
}
