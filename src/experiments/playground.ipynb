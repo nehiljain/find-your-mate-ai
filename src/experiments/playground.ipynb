{
 "cells": [
  {
   "cell_type": "code",
   "execution_count": null,
   "metadata": {},
   "outputs": [],
   "source": [
    "import sys\n",
    "if '/Users/nehiljain/code/find-your-mate-ai/src' not in sys.path:\n",
    "    sys.path.append('/Users/nehiljain/code/find-your-mate-ai/src')\n",
    "\n",
    "\n",
    "import nest_asyncio\n",
    "nest_asyncio.apply()\n",
    "from find_your_mate_ai.config import settings\n",
    "from find_your_mate_ai.data_ingestion import *\n",
    "import pandas as pd\n",
    "openai.api_key = settings.OPENAI_API_KEY\n",
    "logging.info(\"OpenAI API key configured\")\n",
    "\n",
    "\n",
    "# nodes = load_nodes_from_mongodb(settings.MONGO_URI)\n"
   ]
  },
  {
   "cell_type": "code",
   "execution_count": null,
   "metadata": {},
   "outputs": [],
   "source": [
    "# Import necessary modules and functions\n",
    "from find_your_mate_ai.data_ingestion import ingest_profiles_data, create_pinecone_index, create_auto_retriever, MongoConnection, OpenAI\n",
    "from llama_index.core.llms.llm import LLM\n",
    "from pprint import pprint\n",
    "from dynaconf import settings\n",
    "# Print all settings using the test environment for visual inspection\n",
    "with settings.using_env(\"test\"):\n",
    "    pprint(settings.to_dict())\n",
    "    mongo_conn = MongoConnection(\n",
    "        mongo_uri=settings.MONGO_URI,\n",
    "        db_name=settings.MONGODB_NAME,\n",
    "        collection_name=\"test_notebook_collection\",\n",
    "    )\n",
    "    nodes = ingest_profiles_data(\n",
    "        source_data_path=settings.SOURCE_DATA_PATH,\n",
    "        output_data_path=settings.OUTPUT_DATA_PATH,\n",
    "        openai_api_key=settings.OPENAI_API_KEY,\n",
    "        mongo_conn=mongo_conn,\n",
    "    )\n",
    "    for node in nodes:\n",
    "        print(node.metadata)\n",
    "        print(\"-\" * 100)\n",
    "    # Create Pinecone index\n",
    "    pinecone_index, pinecone_instance = create_pinecone_index(\n",
    "        index_name=\"test-notebook-index\",\n",
    "        pinecone_api_key=settings.PINECONE_API_KEY\n",
    "    )\n",
    "\n"
   ]
  },
  {
   "cell_type": "code",
   "execution_count": null,
   "metadata": {},
   "outputs": [],
   "source": []
  },
  {
   "cell_type": "code",
   "execution_count": null,
   "metadata": {},
   "outputs": [],
   "source": [
    "# Create a retriever\n",
    "# Index profiles data\n",
    "vector_store_index = index_profiles_data(\n",
    "    pinecone_index=pinecone_index\n",
    ")\n",
    "retriever2 = create_auto_retriever(\n",
    "    vector_store_index=vector_store_index,\n",
    "    llm=OpenAI(model=\"gpt-4-turbo\")\n",
    ")\n",
    "from llama_index.core.response.notebook_utils import display_source_node\n",
    "\n",
    "filtered_nodes = retriever2.retrieve(\n",
    "    \"Who are some founders that are 30 or below\"\n",
    ")\n",
    "for node in filtered_nodes:\n",
    "    print(node.metadata['file_name'])\n",
    "    display_source_node(node, source_length=1000)\n",
    "    print(\"-\"*100)\n",
    "    print(\"-\"*100)\n",
    "\n"
   ]
  },
  {
   "cell_type": "code",
   "execution_count": null,
   "metadata": {},
   "outputs": [],
   "source": []
  },
  {
   "cell_type": "code",
   "execution_count": null,
   "metadata": {},
   "outputs": [],
   "source": []
  },
  {
   "cell_type": "code",
   "execution_count": null,
   "metadata": {},
   "outputs": [],
   "source": []
  }
 ],
 "metadata": {
  "kernelspec": {
   "display_name": ".venv",
   "language": "python",
   "name": "python3"
  },
  "language_info": {
   "codemirror_mode": {
    "name": "ipython",
    "version": 3
   },
   "file_extension": ".py",
   "mimetype": "text/x-python",
   "name": "python",
   "nbconvert_exporter": "python",
   "pygments_lexer": "ipython3",
   "version": "3.11.9"
  }
 },
 "nbformat": 4,
 "nbformat_minor": 2
}
