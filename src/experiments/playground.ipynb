{
 "cells": [
  {
   "cell_type": "code",
   "execution_count": null,
   "metadata": {},
   "outputs": [],
   "source": [
    "import sys\n",
    "if '/Users/nehiljain/code/find-your-mate-ai/src' not in sys.path:\n",
    "    sys.path.append('/Users/nehiljain/code/find-your-mate-ai/src')\n",
    "\n",
    "import nest_asyncio\n",
    "\n",
    "nest_asyncio.apply()\n",
    "from find_your_mate_ai.config import settings\n",
    "from find_your_mate_ai.data_ingestion import *\n",
    "import pandas as pd\n",
    "# documents = ingest_profiles_data(\n",
    "#         source_data_path=settings.SOURCE_DATA_PATH,\n",
    "#         output_data_path=settings.OUTPUT_DATA_PATH,\n",
    "#     )\n"
   ]
  },
  {
   "cell_type": "code",
   "execution_count": null,
   "metadata": {},
   "outputs": [],
   "source": []
  },
  {
   "cell_type": "code",
   "execution_count": null,
   "metadata": {},
   "outputs": [],
   "source": [
    "print(settings.MONGO_URI)\n",
    "storage_context = StorageContext.from_defaults(\n",
    "        docstore=MongoDocumentStore.from_uri(uri=settings.MONGO_URI),\n",
    "    )\n",
    "docs = storage_context.docstore.docs\n",
    "\n",
    "\n"
   ]
  },
  {
   "cell_type": "code",
   "execution_count": null,
   "metadata": {},
   "outputs": [],
   "source": [
    "from typing import Dict, List\n",
    "print(\"Number of documents: \", len(docs))\n",
    "nodes: List[BaseNode] = [node for _, node in docs.items()]\n",
    "\n",
    "\n"
   ]
  },
  {
   "cell_type": "code",
   "execution_count": null,
   "metadata": {},
   "outputs": [],
   "source": [
    "from pymongo import MongoClient\n",
    "from pymongo.server_api import ServerApi\n",
    "\n",
    "# Connect to MongoDB\n",
    "client = MongoClient(settings.MONGO_URI, server_api=ServerApi('1'))\n",
    "db = client['db_docstore']\n",
    "collection = db['docstore/data']\n",
    "\n",
    "def update_document_ids_with_hashes(metadata_df):\n",
    "    metadata_df = fetch_all_documents_from_mongodb(settings.MONGO_URI, \"db_docstore\", \"docstore/data\")\n",
    "    # Create a clone of the metadata DataFrame\n",
    "    cloned_df = metadata_df.copy()\n",
    "\n",
    "    # Modify the _id column to be a hash of the file_name column\n",
    "    cloned_df['_id'] = cloned_df['file_name'].apply(lambda x: hash(x))\n",
    "\n",
    "    # Iterate over each row in the DataFrame and update the MongoDB document\n",
    "    for index, row in cloned_df.iterrows():\n",
    "        original_id = metadata_df.at[index, '_id']\n",
    "        new_id = row['_id']\n",
    "\n",
    "        # Update the document in MongoDB\n",
    "        update_result = collection.update_one(\n",
    "            {'_id': original_id},\n",
    "            {'$set': {'_id': new_id}}\n",
    "        )\n",
    "\n",
    "        # Log the result of the update\n",
    "        if update_result.modified_count == 1:\n",
    "            logging.info(f\"Document with original ID {original_id} updated to new ID {new_id}\")\n",
    "        else:\n",
    "            logging.error(f\"Failed to update document with original ID {original_id}\")\n",
    "\n",
    "# Call the function with the metadata DataFrame\n",
    "update_document_ids_with_hashes(metadata_df)\n",
    "\n",
    "\n",
    "# Close the connection\n",
    "client.close()\n"
   ]
  },
  {
   "cell_type": "code",
   "execution_count": null,
   "metadata": {},
   "outputs": [],
   "source": []
  },
  {
   "cell_type": "code",
   "execution_count": null,
   "metadata": {},
   "outputs": [],
   "source": []
  },
  {
   "cell_type": "code",
   "execution_count": null,
   "metadata": {},
   "outputs": [],
   "source": [
    "%pip install llama-index-llms-openai\n",
    "%pip install llama-index-program-openai\n",
    "%pip install llama-index-readers-web\n"
   ]
  },
  {
   "cell_type": "code",
   "execution_count": null,
   "metadata": {},
   "outputs": [],
   "source": [
    "import nest_asyncio\n",
    "\n",
    "nest_asyncio.apply()\n",
    "\n",
    "import os\n",
    "import openai\n",
    "from pydantic import BaseModel, Field\n",
    "from typing import List\n",
    "class NodeMetadata(BaseModel):\n",
    "    \"\"\"Node metadata.\"\"\"\n",
    "\n",
    "    entities: List[str] = Field(\n",
    "        ..., description=\"Unique entities in this text chunk.\"\n",
    "    )\n",
    "    summary: str = Field(\n",
    "        ..., description=\"A concise summary of this text chunk.\"\n",
    "    )\n",
    "    contains_number: bool = Field(\n",
    "        ...,\n",
    "        description=(\n",
    "            \"Whether the text chunk contains any numbers (ints, floats, etc.)\"\n",
    "        ),\n",
    "    )\n",
    "\n",
    "from llama_index.program.openai import OpenAIPydanticProgram\n",
    "from llama_index.core.extractors import PydanticProgramExtractor\n",
    "\n",
    "EXTRACT_TEMPLATE_STR = \"\"\"\\\n",
    "Here is the content of the section:\n",
    "----------------\n",
    "{context_str}\n",
    "----------------\n",
    "Given the contextual information, extract out a {class_name} object.\\\n",
    "\"\"\"\n",
    "\n",
    "openai_program = OpenAIPydanticProgram.from_defaults(\n",
    "    output_cls=NodeMetadata,\n",
    "    llm=OpenAI(\n",
    "        temperature=0,\n",
    "        model=\"llama3\",\n",
    "        api_base=\"http://localhost:11434/v1\",\n",
    "        api_key=\"ollama\",\n",
    "    ),\n",
    "    prompt_template_str=\"{input}\",\n",
    "    # extract_template_str=EXTRACT_TEMPLATE_STR\n",
    ")\n",
    "\n",
    "program_extractor = PydanticProgramExtractor(\n",
    "    program=openai_program, input_key=\"input\", show_progress=True\n",
    ")"
   ]
  },
  {
   "cell_type": "code",
   "execution_count": null,
   "metadata": {},
   "outputs": [],
   "source": [
    "# load in blog\n",
    "\n",
    "from llama_index.readers.web import SimpleWebPageReader\n",
    "from llama_index.core.node_parser import SentenceSplitter\n",
    "\n",
    "reader = SimpleWebPageReader(html_to_text=True)\n",
    "docs = reader.load_data(urls=[\"https://eugeneyan.com/writing/llm-patterns/\"])"
   ]
  },
  {
   "cell_type": "code",
   "execution_count": null,
   "metadata": {},
   "outputs": [],
   "source": [
    "from llama_index.core.ingestion import IngestionPipeline\n",
    "\n",
    "node_parser = SentenceSplitter(chunk_size=1024)\n",
    "\n",
    "pipeline = IngestionPipeline(transformations=[node_parser, program_extractor])\n",
    "\n",
    "orig_nodes = pipeline.run(documents=docs)"
   ]
  },
  {
   "cell_type": "code",
   "execution_count": null,
   "metadata": {},
   "outputs": [],
   "source": [
    "orig_nodes"
   ]
  },
  {
   "cell_type": "code",
   "execution_count": null,
   "metadata": {},
   "outputs": [],
   "source": [
    "\\"
   ]
  },
  {
   "cell_type": "markdown",
   "metadata": {},
   "source": []
  }
 ],
 "metadata": {
  "kernelspec": {
   "display_name": ".venv",
   "language": "python",
   "name": "python3"
  },
  "language_info": {
   "codemirror_mode": {
    "name": "ipython",
    "version": 3
   },
   "file_extension": ".py",
   "mimetype": "text/x-python",
   "name": "python",
   "nbconvert_exporter": "python",
   "pygments_lexer": "ipython3",
   "version": "3.11.7"
  }
 },
 "nbformat": 4,
 "nbformat_minor": 2
}
